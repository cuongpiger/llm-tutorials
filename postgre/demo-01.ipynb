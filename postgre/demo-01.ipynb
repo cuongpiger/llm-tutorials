{
 "cells": [
  {
   "metadata": {
    "ExecuteTime": {
     "end_time": "2025-03-11T08:42:32.141449Z",
     "start_time": "2025-03-11T08:42:32.131831Z"
    }
   },
   "cell_type": "code",
   "source": [
    "%load_ext autoreload\n",
    "%autoreload 2"
   ],
   "id": "c995d141f074f041",
   "outputs": [
    {
     "name": "stdout",
     "output_type": "stream",
     "text": [
      "The autoreload extension is already loaded. To reload it, use:\n",
      "  %reload_ext autoreload\n"
     ]
    }
   ],
   "execution_count": 3
  },
  {
   "metadata": {},
   "cell_type": "markdown",
   "source": "## Configure some environment variables",
   "id": "34a501fa2a357157"
  },
  {
   "metadata": {
    "ExecuteTime": {
     "end_time": "2025-03-11T08:48:57.349628Z",
     "start_time": "2025-03-11T08:48:57.340234Z"
    }
   },
   "cell_type": "code",
   "source": [
    "import os\n",
    "\n",
    "from modules import utils"
   ],
   "id": "12ca629ab44fc05e",
   "outputs": [],
   "execution_count": 9
  },
  {
   "metadata": {
    "ExecuteTime": {
     "end_time": "2025-03-11T08:48:58.144372Z",
     "start_time": "2025-03-11T08:48:58.132231Z"
    }
   },
   "cell_type": "code",
   "source": [
    "ENV_FILE_PATH = \"/Users/cuongdm8499/Me/git-cuongpiger/secret/work/vngcloud/ai-platform/env\"\n",
    "MODEL_NAME = \"deepseek-ai/DeepSeek-R1-Distill-Llama-70B\"\n",
    "MAX_TOKENS = 32700\n",
    "\n",
    "os.environ[\"GOOGLE_APPLICATION_CREDENTIALS\"] = (\n",
    "    # \"/home/stackops/secret/work/vngcloud/ai-platform/vertex-ai-credential.json\"\n",
    "    \"/Users/cuongdm8499/Me/git-cuongpiger/secret/work/vngcloud/ai-platform/vertex-ai-credential.json\"\n",
    ")\n",
    "\n",
    "envs = utils.load_env_to_dict(ENV_FILE_PATH)"
   ],
   "id": "d80c79868d440f7e",
   "outputs": [],
   "execution_count": 10
  },
  {
   "metadata": {},
   "cell_type": "markdown",
   "source": [
    "\n",
    "## Set up RAG"
   ],
   "id": "d434bad2c3557245"
  },
  {
   "metadata": {
    "ExecuteTime": {
     "end_time": "2025-03-11T08:50:10.727012Z",
     "start_time": "2025-03-11T08:50:10.703113Z"
    }
   },
   "cell_type": "code",
   "source": [
    "## Setup RAG chain\n",
    "from langchain_openai import ChatOpenAI\n",
    "from langchain.prompts import ChatPromptTemplate\n",
    "from langchain.schema.runnable import RunnablePassthrough\n",
    "from langchain.schema.output_parser import StrOutputParser\n",
    "from llm import deepseek"
   ],
   "id": "17f83fc312755c24",
   "outputs": [],
   "execution_count": 14
  },
  {
   "metadata": {},
   "cell_type": "code",
   "outputs": [],
   "execution_count": null,
   "source": "",
   "id": "d3588e0551562b58"
  }
 ],
 "metadata": {
  "kernelspec": {
   "name": "python3",
   "language": "python",
   "display_name": "Python 3 (ipykernel)"
  }
 },
 "nbformat": 5,
 "nbformat_minor": 9
}
