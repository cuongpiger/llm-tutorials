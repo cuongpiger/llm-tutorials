{
 "cells": [
  {
   "metadata": {
    "ExecuteTime": {
     "end_time": "2025-03-19T02:52:27.927334Z",
     "start_time": "2025-03-19T02:52:27.917037Z"
    }
   },
   "cell_type": "code",
   "source": [
    "%load_ext autoreload\n",
    "%autoreload 2"
   ],
   "id": "438e4b65d9a79ed3",
   "outputs": [],
   "execution_count": 1
  },
  {
   "metadata": {},
   "cell_type": "markdown",
   "source": [
    "# HyDE (Hypothetical Document Embeddings) in LLMs\n",
    "- HyDE (Hypothetical Document Embeddings) is a retrieval-augmented generation (RAG) technique used to improve search and retrieval in LLM-powered applications. Instead of directly embedding a query and searching for similar documents, HyDE first generates a hypothetical answer using an LLM and then embeds that answer for retrieval.\n",
    "\n",
    "# How HyDE Works\n",
    "1. User Query → Hypothetical Answer Generation\n",
    "- Given a query, an LLM generates a hypothetical response (even if it's not perfect).\n",
    "\n",
    "2. Hypothetical Answer → Embedding Model\n",
    "- The generated response is converted into an embedding (vector representation).\n",
    "\n",
    "3. Vector Search → Retrieve Similar Real Documents\n",
    "- The system searches the vector database using the embedding of the hypothetical answer instead of the original query.\n",
    "- This often leads to better matches than using the raw query alone.\n",
    "\n",
    "4. Final RAG Response\n",
    "- The most relevant retrieved documents are fed back into the LLM to generate the final answer.\n"
   ],
   "id": "6edf08332975ad05"
  },
  {
   "metadata": {
    "ExecuteTime": {
     "end_time": "2025-03-19T02:57:08.903778Z",
     "start_time": "2025-03-19T02:57:08.868248Z"
    }
   },
   "cell_type": "code",
   "source": [
    "import os\n",
    "from typing import Any, List, Literal\n",
    "\n",
    "import streamlit as st\n",
    "from langchain.document_loaders import UnstructuredPDFLoader\n",
    "from langchain.memory import ChatMessageHistory\n",
    "from langchain.prompts import (\n",
    "    HumanMessagePromptTemplate,\n",
    "    MessagesPlaceholder,\n",
    "    SystemMessagePromptTemplate,\n",
    ")\n",
    "from langchain.schema.output_parser import StrOutputParser\n",
    "from langchain.text_splitter import SentenceTransformersTokenTextSplitter\n",
    "from langchain_community.vectorstores import FAISS\n",
    "from langchain_core.language_models import BaseChatModel\n",
    "from langchain_core.prompts.chat import ChatPromptTemplate\n",
    "from langchain_core.retrievers import BaseRetriever\n",
    "from langchain_core.runnables import RunnablePassthrough, chain\n",
    "from langchain_core.runnables.base import RunnableSerializable\n",
    "from langchain_core.runnables.history import RunnableWithMessageHistory\n",
    "from langchain_openai import ChatOpenAI\n",
    "from langchain_huggingface import HuggingFaceEmbeddings\n",
    "\n",
    "from loguru import logger\n",
    "from rich.pretty import pprint"
   ],
   "id": "b03e6c1884038e43",
   "outputs": [],
   "execution_count": 5
  },
  {
   "metadata": {
    "ExecuteTime": {
     "end_time": "2025-03-19T02:57:24.634103Z",
     "start_time": "2025-03-19T02:57:24.613756Z"
    }
   },
   "cell_type": "code",
   "source": [
    "def pretty_print(title: str = None, content: Any = None):\n",
    "    if title is None:\n",
    "        print(content)\n",
    "        return\n",
    "    print(title)\n",
    "    pprint(content)\n",
    "\n",
    "\n",
    "st.session_state[\"history\"] = (\n",
    "    ChatMessageHistory()\n",
    "    if \"history\" not in st.session_state\n",
    "    else st.session_state[\"history\"]\n",
    ")"
   ],
   "id": "54df66df33775efd",
   "outputs": [
    {
     "name": "stderr",
     "output_type": "stream",
     "text": [
      "2025-03-19 09:57:24.631 WARNING streamlit.runtime.scriptrunner_utils.script_run_context: Thread 'MainThread': missing ScriptRunContext! This warning can be ignored when running in bare mode.\n",
      "2025-03-19 09:57:24.631 WARNING streamlit.runtime.state.session_state_proxy: Session state does not function when running a script without `streamlit run`\n",
      "2025-03-19 09:57:24.631 WARNING streamlit.runtime.scriptrunner_utils.script_run_context: Thread 'MainThread': missing ScriptRunContext! This warning can be ignored when running in bare mode.\n",
      "2025-03-19 09:57:24.632 WARNING streamlit.runtime.scriptrunner_utils.script_run_context: Thread 'MainThread': missing ScriptRunContext! This warning can be ignored when running in bare mode.\n"
     ]
    }
   ],
   "execution_count": 6
  },
  {
   "metadata": {},
   "cell_type": "code",
   "outputs": [],
   "execution_count": null,
   "source": "",
   "id": "5e01b13a291329b4"
  }
 ],
 "metadata": {
  "kernelspec": {
   "name": "python3",
   "language": "python",
   "display_name": "Python 3 (ipykernel)"
  }
 },
 "nbformat": 5,
 "nbformat_minor": 9
}
